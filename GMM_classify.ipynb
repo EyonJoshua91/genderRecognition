{
 "cells": [
  {
   "cell_type": "code",
   "execution_count": 72,
   "metadata": {
    "collapsed": true
   },
   "outputs": [],
   "source": [
    "import sklearn.mixture\n",
    "import pickle\n",
    "import numpy as np\n",
    "from sklearn.preprocessing import normalize"
   ]
  },
  {
   "cell_type": "code",
   "execution_count": 73,
   "metadata": {
    "collapsed": true
   },
   "outputs": [],
   "source": [
    "AMFCC_path='/home/ubuntu/genderRecognition/AMFCC.pk'\n",
    "GMM_Path='/home/ubuntu/genderRecognition/GMM.pk'\n",
    "numc_comp=64"
   ]
  },
  {
   "cell_type": "code",
   "execution_count": 74,
   "metadata": {
    "collapsed": false
   },
   "outputs": [],
   "source": [
    "male_model= sklearn.mixture.GaussianMixture(n_components=numc_comp, \n",
    "                                       covariance_type='diag')\n",
    "female_model=sklearn.mixture.GaussianMixture(n_components=numc_comp, \n",
    "                                       covariance_type='diag')"
   ]
  },
  {
   "cell_type": "code",
   "execution_count": 4,
   "metadata": {
    "collapsed": true
   },
   "outputs": [],
   "source": [
    "f=open(AMFCC_path,'rb')\n",
    "[train_set_AMFCC,valid_set_AMFCC,test_set_AMFCC,train_set_y,valid_set_y,test_set_y]=pickle.load(f)\n",
    "f.close()"
   ]
  },
  {
   "cell_type": "code",
   "execution_count": 75,
   "metadata": {
    "collapsed": false
   },
   "outputs": [],
   "source": [
    "train_female_feats=np.concatenate([(train_set_AMFCC[i]-np.mean(train_set_AMFCC[i],axis=0))/np.linalg.norm(train_set_AMFCC[i],axis=0) for i in range(len(train_set_AMFCC))[:len(train_set_AMFCC)/2]],axis=0)\n",
    "train_male_feats=np.concatenate([(train_set_AMFCC[i]-np.mean(train_set_AMFCC[i],axis=0))/np.linalg.norm(train_set_AMFCC[i],axis=0) for i in range(len(train_set_AMFCC))[len(train_set_AMFCC)/2:]],axis=0)"
   ]
  },
  {
   "cell_type": "code",
   "execution_count": 76,
   "metadata": {
    "collapsed": false
   },
   "outputs": [
    {
     "data": {
      "text/plain": [
       "GaussianMixture(covariance_type='diag', init_params='kmeans', max_iter=100,\n",
       "        means_init=None, n_components=64, n_init=1, precisions_init=None,\n",
       "        random_state=None, reg_covar=1e-06, tol=0.001, verbose=0,\n",
       "        verbose_interval=10, warm_start=False, weights_init=None)"
      ]
     },
     "execution_count": 76,
     "metadata": {},
     "output_type": "execute_result"
    }
   ],
   "source": [
    "male_model.fit(train_male_feats)"
   ]
  },
  {
   "cell_type": "code",
   "execution_count": 77,
   "metadata": {
    "collapsed": false
   },
   "outputs": [
    {
     "data": {
      "text/plain": [
       "GaussianMixture(covariance_type='diag', init_params='kmeans', max_iter=100,\n",
       "        means_init=None, n_components=64, n_init=1, precisions_init=None,\n",
       "        random_state=None, reg_covar=1e-06, tol=0.001, verbose=0,\n",
       "        verbose_interval=10, warm_start=False, weights_init=None)"
      ]
     },
     "execution_count": 77,
     "metadata": {},
     "output_type": "execute_result"
    }
   ],
   "source": [
    "female_model.fit(train_female_feats)"
   ]
  },
  {
   "cell_type": "code",
   "execution_count": 78,
   "metadata": {
    "collapsed": true
   },
   "outputs": [],
   "source": [
    "f=open(GMM_Path,'wb')\n",
    "pickle.dump((male_model,female_model), f)\n",
    "f.close()"
   ]
  },
  {
   "cell_type": "code",
   "execution_count": 102,
   "metadata": {
    "collapsed": true
   },
   "outputs": [],
   "source": [
    "def GenderPredict(feats,male_model,female_model,mode='score'):\n",
    "    male=0\n",
    "    male_score_total=0\n",
    "    female=0\n",
    "    female_score_total=0\n",
    "    feats=(feats-np.mean(feats,axis=0))/np.linalg.norm(feats,axis=0)\n",
    "    for i in range(len(feats)):\n",
    "        male_score=male_model.score(feats[i].reshape(1,-1))\n",
    "        female_score=female_model.score(feats[i].reshape(1,-1))\n",
    "        if male_score>female_score:\n",
    "            male_score_total+=male_score\n",
    "            male+=1\n",
    "        elif male_score<female_score:\n",
    "            female_score_total+=female_score\n",
    "            female+=1\n",
    "    if mode=='score':\n",
    "        if male_score_total>female_score_total:\n",
    "            return 1\n",
    "        else:\n",
    "            return 0     \n",
    "    if mode=='most':\n",
    "        if male>female:\n",
    "            return 1\n",
    "        else:\n",
    "            return 0     \n",
    "    "
   ]
  },
  {
   "cell_type": "code",
   "execution_count": 94,
   "metadata": {
    "collapsed": false
   },
   "outputs": [],
   "source": [
    "feats=test_set_AMFCC[0][0]\n",
    "feats=(feats-np.mean(feats,axis=0))/np.linalg.norm(feats,axis=0)"
   ]
  },
  {
   "cell_type": "code",
   "execution_count": 99,
   "metadata": {
    "collapsed": false
   },
   "outputs": [
    {
     "data": {
      "text/plain": [
       "(64, 39)"
      ]
     },
     "execution_count": 99,
     "metadata": {},
     "output_type": "execute_result"
    }
   ],
   "source": [
    "female_model.means_ .shape"
   ]
  },
  {
   "cell_type": "code",
   "execution_count": 95,
   "metadata": {
    "collapsed": false
   },
   "outputs": [
    {
     "data": {
      "text/plain": [
       "array([ 0.39485051,  0.09142322, -0.32680151,  0.044738  , -0.53104905,\n",
       "       -0.11041967, -0.51841576,  0.08764355, -0.08547259,  0.18069576,\n",
       "       -0.05609247, -0.08177609, -0.08102805,  0.04146442,  0.03024958,\n",
       "        0.01185464,  0.03787618,  0.04684236,  0.04767449,  0.03805714,\n",
       "        0.04001066,  0.03842932,  0.02498511,  0.04677308,  0.03217017,\n",
       "        0.03970698,  0.03999329,  0.02966882,  0.04479767,  0.05076087,\n",
       "        0.03029837,  0.05108041,  0.04507982,  0.03509421,  0.04225352,\n",
       "        0.03824517,  0.03036418,  0.03737768,  0.04059604])"
      ]
     },
     "execution_count": 95,
     "metadata": {},
     "output_type": "execute_result"
    }
   ],
   "source": [
    "feats"
   ]
  },
  {
   "cell_type": "code",
   "execution_count": 100,
   "metadata": {
    "collapsed": false
   },
   "outputs": [
    {
     "data": {
      "text/plain": [
       "-3869.8161652894569"
      ]
     },
     "execution_count": 100,
     "metadata": {},
     "output_type": "execute_result"
    }
   ],
   "source": [
    "female_model.score(feats.reshape(1,-1))"
   ]
  },
  {
   "cell_type": "code",
   "execution_count": 101,
   "metadata": {
    "collapsed": false
   },
   "outputs": [
    {
     "data": {
      "text/plain": [
       "-9258.3315842068059"
      ]
     },
     "execution_count": 101,
     "metadata": {},
     "output_type": "execute_result"
    }
   ],
   "source": [
    "male_model.score(feats.reshape(1,-1))"
   ]
  },
  {
   "cell_type": "code",
   "execution_count": null,
   "metadata": {
    "collapsed": true
   },
   "outputs": [],
   "source": []
  },
  {
   "cell_type": "code",
   "execution_count": null,
   "metadata": {
    "collapsed": false
   },
   "outputs": [
    {
     "name": "stdout",
     "output_type": "stream",
     "text": [
      "done 10%\n",
      "done 20%\n",
      "done 30%"
     ]
    }
   ],
   "source": [
    "prediction=[]\n",
    "count=0\n",
    "for i in range(len(test_set_y)):\n",
    "    count+=1\n",
    "    if count % int(len(test_set_y)*0.1)==0:\n",
    "        print('done %s%%'%int(count*10/(len(test_set_y)*0.1)))\n",
    "    prediction.append(GenderPredict(test_set_AMFCC[i],male_model,female_model))\n",
    "comparison=[[prediction[i]==test_set_y[i] for i in range(len(test_set_AMFCC))]]\n",
    "\n",
    "    "
   ]
  },
  {
   "cell_type": "code",
   "execution_count": null,
   "metadata": {
    "collapsed": true
   },
   "outputs": [],
   "source": [
    "accuracy=sum(comparison)/len(test_set_y)"
   ]
  },
  {
   "cell_type": "code",
   "execution_count": null,
   "metadata": {
    "collapsed": true
   },
   "outputs": [],
   "source": [
    "accuracy"
   ]
  },
  {
   "cell_type": "code",
   "execution_count": null,
   "metadata": {
    "collapsed": true
   },
   "outputs": [],
   "source": []
  }
 ],
 "metadata": {
  "kernelspec": {
   "display_name": "Python 2",
   "language": "python",
   "name": "python2"
  },
  "language_info": {
   "codemirror_mode": {
    "name": "ipython",
    "version": 2
   },
   "file_extension": ".py",
   "mimetype": "text/x-python",
   "name": "python",
   "nbconvert_exporter": "python",
   "pygments_lexer": "ipython2",
   "version": "2.7.11"
  }
 },
 "nbformat": 4,
 "nbformat_minor": 0
}
