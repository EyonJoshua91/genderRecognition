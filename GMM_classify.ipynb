{
 "cells": [
  {
   "cell_type": "code",
   "execution_count": 43,
   "metadata": {
    "collapsed": true
   },
   "outputs": [],
   "source": [
    "import sklearn.mixture\n",
    "import pickle\n",
    "import numpy as np\n",
    "from sklearn.preprocessing import normalize"
   ]
  },
  {
   "cell_type": "code",
   "execution_count": 3,
   "metadata": {
    "collapsed": true
   },
   "outputs": [],
   "source": [
    "AMFCC_path='/home/ubuntu/genderRecognition/AMFCC.pk'\n",
    "GMM_Path='/home/ubuntu/genderRecognition/GMM.pk'\n",
    "numc_comp=256"
   ]
  },
  {
   "cell_type": "code",
   "execution_count": 34,
   "metadata": {
    "collapsed": false
   },
   "outputs": [],
   "source": [
    "male_model= sklearn.mixture.GaussianMixture(n_components=numc_comp, \n",
    "                                       covariance_type='full')\n",
    "female_model=sklearn.mixture.GaussianMixture(n_components=numc_comp, \n",
    "                                       covariance_type='full')"
   ]
  },
  {
   "cell_type": "code",
   "execution_count": 4,
   "metadata": {
    "collapsed": true
   },
   "outputs": [],
   "source": [
    "f=open(AMFCC_path,'rb')\n",
    "[train_set_AMFCC,valid_set_AMFCC,test_set_AMFCC,train_set_y,valid_set_y,test_set_y]=pickle.load(f)\n",
    "f.close()"
   ]
  },
  {
   "cell_type": "code",
   "execution_count": 70,
   "metadata": {
    "collapsed": false
   },
   "outputs": [],
   "source": [
    "train_female_feats=np.concatenate([(train_set_AMFCC[i]-np.mean(train_set_AMFCC[i],axis=0))/np.linalg.norm(train_set_AMFCC[i],axis=0) for i in range(len(train_set_AMFCC))[:len(train_set_AMFCC)/2]],axis=0)\n",
    "train_male_feats=np.concatenate([(train_set_AMFCC[i]-np.mean(train_set_AMFCC[i],axis=0))/np.linalg.norm(train_set_AMFCC[i],axis=0) for i in range(len(train_set_AMFCC))[len(train_set_AMFCC)/2:]],axis=0)"
   ]
  },
  {
   "cell_type": "code",
   "execution_count": null,
   "metadata": {
    "collapsed": false
   },
   "outputs": [],
   "source": [
    "male_model.fit(train_male_feats)"
   ]
  },
  {
   "cell_type": "code",
   "execution_count": null,
   "metadata": {
    "collapsed": true
   },
   "outputs": [],
   "source": [
    "female_model.fit(train_female_feats)"
   ]
  },
  {
   "cell_type": "code",
   "execution_count": null,
   "metadata": {
    "collapsed": true
   },
   "outputs": [],
   "source": [
    "f=open(GMM_Path,'wb')\n",
    "pickle.dump((male_model,female_model), f)\n",
    "f.close()"
   ]
  },
  {
   "cell_type": "code",
   "execution_count": null,
   "metadata": {
    "collapsed": true
   },
   "outputs": [],
   "source": [
    "def GenderPredict(feats,mode='score'):\n",
    "    male=0\n",
    "    male_score_total=0\n",
    "    female=0\n",
    "    female_score_total=0\n",
    "    feats=(feats-np.mean(feats,axis=0))/np.linalg.norm(feats,axis=0)\n",
    "    for i in range(len(feats)):\n",
    "        male_score=male_model.score(feats[i])\n",
    "        female_score=female_model.score(feats[i])\n",
    "        if male_score>female_score:\n",
    "            male_score_total+=male_score\n",
    "            male+=1\n",
    "        elif male_score<female_score:\n",
    "            female_score_total+=female_score\n",
    "            female+=1\n",
    "    if mode=='score':\n",
    "        if male_score_total>female_score_total:\n",
    "            return 1\n",
    "        else:\n",
    "            return 0     \n",
    "    if mode=='most':\n",
    "        if male>female:\n",
    "            return 1\n",
    "        else:\n",
    "            return 0     \n",
    "    "
   ]
  },
  {
   "cell_type": "code",
   "execution_count": null,
   "metadata": {
    "collapsed": true
   },
   "outputs": [],
   "source": [
    "prediction=[]\n",
    "for i in range(len(test_set_y)):\n",
    "    prediction.append(GenderPredict(test_set_AMFCC[i]))\n",
    "comparison=[[prediction[i]==test_set_y[i] for i in range(len(test_set_AMFCC))]]\n",
    "accuracy=sum()\n",
    "    "
   ]
  }
 ],
 "metadata": {
  "kernelspec": {
   "display_name": "Python 2",
   "language": "python",
   "name": "python2"
  },
  "language_info": {
   "codemirror_mode": {
    "name": "ipython",
    "version": 2
   },
   "file_extension": ".py",
   "mimetype": "text/x-python",
   "name": "python",
   "nbconvert_exporter": "python",
   "pygments_lexer": "ipython2",
   "version": "2.7.11"
  }
 },
 "nbformat": 4,
 "nbformat_minor": 0
}
