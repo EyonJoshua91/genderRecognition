{
 "cells": [
  {
   "cell_type": "code",
   "execution_count": 72,
   "metadata": {
    "collapsed": true
   },
   "outputs": [],
   "source": [
    "import sklearn.mixture\n",
    "import pickle\n",
    "import numpy as np\n",
    "from sklearn.preprocessing import normalize"
   ]
  },
  {
   "cell_type": "code",
   "execution_count": 73,
   "metadata": {
    "collapsed": true
   },
   "outputs": [],
   "source": [
    "AMFCC_path='/home/ubuntu/genderRecognition/AMFCC.pk'\n",
    "GMM_Path='/home/ubuntu/genderRecognition/GMM.pk'\n",
    "numc_comp=64"
   ]
  },
  {
   "cell_type": "code",
   "execution_count": 74,
   "metadata": {
    "collapsed": false
   },
   "outputs": [],
   "source": [
    "male_model= sklearn.mixture.GaussianMixture(n_components=numc_comp, \n",
    "                                       covariance_type='diag')\n",
    "female_model=sklearn.mixture.GaussianMixture(n_components=numc_comp, \n",
    "                                       covariance_type='diag')"
   ]
  },
  {
   "cell_type": "code",
   "execution_count": 4,
   "metadata": {
    "collapsed": true
   },
   "outputs": [],
   "source": [
    "f=open(AMFCC_path,'rb')\n",
    "[train_set_AMFCC,valid_set_AMFCC,test_set_AMFCC,train_set_y,valid_set_y,test_set_y]=pickle.load(f)\n",
    "f.close()"
   ]
  },
  {
   "cell_type": "code",
   "execution_count": 75,
   "metadata": {
    "collapsed": false
   },
   "outputs": [],
   "source": [
    "train_female_feats=np.concatenate([(train_set_AMFCC[i]-np.mean(train_set_AMFCC[i],axis=0))/np.linalg.norm(train_set_AMFCC[i],axis=0) for i in range(len(train_set_AMFCC))[:len(train_set_AMFCC)/2]],axis=0)\n",
    "train_male_feats=np.concatenate([(train_set_AMFCC[i]-np.mean(train_set_AMFCC[i],axis=0))/np.linalg.norm(train_set_AMFCC[i],axis=0) for i in range(len(train_set_AMFCC))[len(train_set_AMFCC)/2:]],axis=0)"
   ]
  },
  {
   "cell_type": "code",
   "execution_count": 76,
   "metadata": {
    "collapsed": false
   },
   "outputs": [
    {
     "data": {
      "text/plain": [
       "GaussianMixture(covariance_type='diag', init_params='kmeans', max_iter=100,\n",
       "        means_init=None, n_components=64, n_init=1, precisions_init=None,\n",
       "        random_state=None, reg_covar=1e-06, tol=0.001, verbose=0,\n",
       "        verbose_interval=10, warm_start=False, weights_init=None)"
      ]
     },
     "execution_count": 76,
     "metadata": {},
     "output_type": "execute_result"
    }
   ],
   "source": [
    "male_model.fit(train_male_feats)"
   ]
  },
  {
   "cell_type": "code",
   "execution_count": 77,
   "metadata": {
    "collapsed": false
   },
   "outputs": [
    {
     "data": {
      "text/plain": [
       "GaussianMixture(covariance_type='diag', init_params='kmeans', max_iter=100,\n",
       "        means_init=None, n_components=64, n_init=1, precisions_init=None,\n",
       "        random_state=None, reg_covar=1e-06, tol=0.001, verbose=0,\n",
       "        verbose_interval=10, warm_start=False, weights_init=None)"
      ]
     },
     "execution_count": 77,
     "metadata": {},
     "output_type": "execute_result"
    }
   ],
   "source": [
    "female_model.fit(train_female_feats)"
   ]
  },
  {
   "cell_type": "code",
   "execution_count": 78,
   "metadata": {
    "collapsed": true
   },
   "outputs": [],
   "source": [
    "f=open(GMM_Path,'wb')\n",
    "pickle.dump((male_model,female_model), f)\n",
    "f.close()"
   ]
  },
  {
   "cell_type": "code",
   "execution_count": 102,
   "metadata": {
    "collapsed": true
   },
   "outputs": [],
   "source": [
    "def GenderPredict(feats,male_model,female_model,mode='score'):\n",
    "    male=0\n",
    "    male_score_total=0\n",
    "    female=0\n",
    "    female_score_total=0\n",
    "    feats=(feats-np.mean(feats,axis=0))/np.linalg.norm(feats,axis=0)\n",
    "    for i in range(len(feats)):\n",
    "        male_score=male_model.score(feats[i].reshape(1,-1))\n",
    "        female_score=female_model.score(feats[i].reshape(1,-1))\n",
    "        if male_score>female_score:\n",
    "            male_score_total+=male_score\n",
    "            male+=1\n",
    "        elif male_score<female_score:\n",
    "            female_score_total+=female_score\n",
    "            female+=1\n",
    "    if mode=='score':\n",
    "        if male_score_total>female_score_total:\n",
    "            return 1\n",
    "        else:\n",
    "            return 0     \n",
    "    if mode=='most':\n",
    "        if male>female:\n",
    "            return 1\n",
    "        else:\n",
    "            return 0     \n",
    "    "
   ]
  },
  {
   "cell_type": "code",
   "execution_count": 131,
   "metadata": {
    "collapsed": false
   },
   "outputs": [
    {
     "name": "stdout",
     "output_type": "stream",
     "text": [
      "done 10%\n",
      "done 20%\n",
      "done 30%\n",
      "done 40%\n",
      "done 50%\n",
      "done 60%\n",
      "done 70%\n",
      "done 80%\n",
      "done 90%\n",
      "done 100%\n",
      "Accuracy is 79.750000%\n"
     ]
    }
   ],
   "source": [
    "from base import GenderPredict\n",
    "prediction=[]\n",
    "count=0\n",
    "for i in range(len(test_set_y)):\n",
    "    count+=1\n",
    "    if count % int(len(test_set_y)*0.1)==0:\n",
    "        print('done %s%%'%int(count*10/(len(test_set_y)*0.1)))\n",
    "    prediction.append(GenderPredict(test_set_AMFCC[i],male_model,female_model))\n",
    "comparison=[prediction[i]==test_set_y[i] for i in range(len(test_set_AMFCC))]\n",
    "accuracy=1.0*sum(comparison)/len(test_set_y) \n",
    "print('Accuracy is %f%%'%(accuracy*100))"
   ]
  },
  {
   "cell_type": "code",
   "execution_count": null,
   "metadata": {
    "collapsed": true
   },
   "outputs": [],
   "source": []
  }
 ],
 "metadata": {
  "kernelspec": {
   "display_name": "Python 2",
   "language": "python",
   "name": "python2"
  },
  "language_info": {
   "codemirror_mode": {
    "name": "ipython",
    "version": 2
   },
   "file_extension": ".py",
   "mimetype": "text/x-python",
   "name": "python",
   "nbconvert_exporter": "python",
   "pygments_lexer": "ipython2",
   "version": "2.7.11"
  }
 },
 "nbformat": 4,
 "nbformat_minor": 0
}
