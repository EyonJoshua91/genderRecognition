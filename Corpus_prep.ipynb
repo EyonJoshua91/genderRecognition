{
 "cells": [
  {
   "cell_type": "markdown",
   "metadata": {},
   "source": [
    "# perpare document for male and female information"
   ]
  },
  {
   "cell_type": "code",
   "execution_count": 1,
   "metadata": {
    "collapsed": true
   },
   "outputs": [],
   "source": [
    "import os\n",
    "from random import shuffle\n",
    "import pickle "
   ]
  },
  {
   "cell_type": "code",
   "execution_count": 2,
   "metadata": {
    "collapsed": true
   },
   "outputs": [],
   "source": [
    "Audio_path='/home/ubuntu/voxforge/audio'"
   ]
  },
  {
   "cell_type": "code",
   "execution_count": 3,
   "metadata": {
    "collapsed": false
   },
   "outputs": [
    {
     "name": "stdout",
     "output_type": "stream",
     "text": [
      "There are 12287 adult female audio, and 59306 adult male audio\n"
     ]
    }
   ],
   "source": [
    "subjects = os.listdir(Audio_path)\n",
    "error_list=[]\n",
    "male_list=[]\n",
    "female_list=[]\n",
    "def check(lines,str1,str2):\n",
    "    for line in lines:\n",
    "        if str2 in line.lower():\n",
    "            return 0\n",
    "        if str1 in line.lower():\n",
    "            return 1\n",
    "    return -1\n",
    "for subject in subjects:\n",
    "    temp_path=os.path.join(Audio_path,subject,'etc','README')\n",
    "    wav_path=os.path.join(Audio_path,subject,'wav')\n",
    "    if not (os.path.exists(wav_path)):\n",
    "        continue\n",
    "    wavs = os.listdir(wav_path)\n",
    "    if not (os.path.exists(temp_path)): \n",
    "        temp_path=os.path.join(Audio_path,subject,'etc','readme')\n",
    "    if not (os.path.exists(temp_path)): \n",
    "        error_list.append(subject)\n",
    "        continue\n",
    "    file=open(temp_path)\n",
    "\n",
    "    lines=file.readlines()\n",
    "    if check(lines,'aaaaaa','youth')==0 :\n",
    "        continue\n",
    "    gender=check(lines,'male','female')\n",
    "    \n",
    "    if gender==1:\n",
    "        male_list+=[os.path.join(wav_path,wav) for wav in wavs]\n",
    "    elif gender==0:\n",
    "        female_list+=[os.path.join(wav_path,wav) for wav in wavs]\n",
    "    else:\n",
    "        error_list.append(subject)\n",
    "print('There are %i adult female audio, and %i adult male audio'%(len(female_list),len(male_list)))"
   ]
  },
  {
   "cell_type": "markdown",
   "metadata": {},
   "source": [
    "### Thus I pick 12000 adult female and male audios as the experiment corpus"
   ]
  },
  {
   "cell_type": "code",
   "execution_count": 9,
   "metadata": {
    "collapsed": false
   },
   "outputs": [],
   "source": [
    "shuffle(female_list)\n",
    "shuffle(male_list)\n",
    "size=12000\n",
    "female_corpus=[(wav,0) for wav in female_list[:size]]\n",
    "male_corpus=[(wav,1) for wav in male_list[:size]]\n",
    "training_rate=0.8\n",
    "valid_rate=0.1\n",
    "test_rate=0.1\n",
    "training_data=[]\n",
    "validation_data=[]\n",
    "test_data=[]\n",
    "training_data_size=int(size*training_rate)\n",
    "test_data_size=int(size*test_rate)\n",
    "training_data+=female_corpus[:training_data_size]\n",
    "training_data+=male_corpus[:training_data_size]\n",
    "validation_data+=female_corpus[training_data_size:-test_data_size]\n",
    "validation_data+=male_corpus[training_data_size:-test_data_size]\n",
    "test_data+=female_corpus[-test_data_size:]\n",
    "test_data+=male_corpus[-test_data_size:]\n"
   ]
  },
  {
   "cell_type": "code",
   "execution_count": 10,
   "metadata": {
    "collapsed": false
   },
   "outputs": [],
   "source": [
    "f=open('/home/ubuntu/genderRecognition/corpus.pk','wb')\n",
    "pickle.dump((training_data,validation_data,test_data), f)\n",
    "f.close()"
   ]
  },
  {
   "cell_type": "markdown",
   "metadata": {},
   "source": [
    "### The corpus is saved as corpus.pk"
   ]
  }
 ],
 "metadata": {
  "kernelspec": {
   "display_name": "Python 2",
   "language": "python",
   "name": "python2"
  },
  "language_info": {
   "codemirror_mode": {
    "name": "ipython",
    "version": 2
   },
   "file_extension": ".py",
   "mimetype": "text/x-python",
   "name": "python",
   "nbconvert_exporter": "python",
   "pygments_lexer": "ipython2",
   "version": "2.7.11"
  }
 },
 "nbformat": 4,
 "nbformat_minor": 0
}
