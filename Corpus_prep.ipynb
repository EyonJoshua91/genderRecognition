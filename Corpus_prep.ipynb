{
 "cells": [
  {
   "cell_type": "markdown",
   "metadata": {},
   "source": [
    "# perpare document for male and female information"
   ]
  },
  {
   "cell_type": "code",
   "execution_count": 1,
   "metadata": {
    "collapsed": true
   },
   "outputs": [],
   "source": [
    "import os\n",
    "from random import shuffle\n",
    "import pickle "
   ]
  },
  {
   "cell_type": "code",
   "execution_count": 2,
   "metadata": {
    "collapsed": true
   },
   "outputs": [],
   "source": [
    "Audio_path='/home/ubuntu/voxforge/audio'"
   ]
  },
  {
   "cell_type": "code",
   "execution_count": 3,
   "metadata": {
    "collapsed": false
   },
   "outputs": [
    {
     "name": "stdout",
     "output_type": "stream",
     "text": [
      "There are 12287 adult female audio, and 59306 adult male audio\n"
     ]
    }
   ],
   "source": [
    "subjects = os.listdir(Audio_path)\n",
    "error_list=[]\n",
    "male_list=[]\n",
    "female_list=[]\n",
    "def check(lines,str1,str2):\n",
    "    for line in lines:\n",
    "        if str2 in line.lower():\n",
    "            return 0\n",
    "        if str1 in line.lower():\n",
    "            return 1\n",
    "    return -1\n",
    "for subject in subjects:\n",
    "    temp_path=os.path.join(Audio_path,subject,'etc','README')\n",
    "    wav_path=os.path.join(Audio_path,subject,'wav')\n",
    "    if not (os.path.exists(wav_path)):\n",
    "        continue\n",
    "    wavs = os.listdir(wav_path)\n",
    "    if not (os.path.exists(temp_path)): \n",
    "        temp_path=os.path.join(Audio_path,subject,'etc','readme')\n",
    "    if not (os.path.exists(temp_path)): \n",
    "        error_list.append(subject)\n",
    "        continue\n",
    "    file=open(temp_path)\n",
    "\n",
    "    lines=file.readlines()\n",
    "    if check(lines,'aaaaaa','youth')==0 :\n",
    "        continue\n",
    "    gender=check(lines,'male','female')\n",
    "    \n",
    "    if gender==1:\n",
    "        male_list+=[os.path.join(wav_path,wav) for wav in wavs]\n",
    "    elif gender==0:\n",
    "        female_list+=[os.path.join(wav_path,wav) for wav in wavs]\n",
    "    else:\n",
    "        error_list.append(subject)\n",
    "print('There are %i adult female audio, and %i adult male audio'%(len(female_list),len(male_list)))"
   ]
  },
  {
   "cell_type": "markdown",
   "metadata": {},
   "source": [
    "### Thus I pick 12000 adult female and male audios as the experiment corpus"
   ]
  },
  {
   "cell_type": "code",
   "execution_count": 4,
   "metadata": {
    "collapsed": false
   },
   "outputs": [],
   "source": [
    "shuffle(female_list)\n",
    "shuffle(male_list)\n",
    "female_corpus=female_list[:12000]\n",
    "male_corpus=male_list[:12000]\n",
    "corpus=[]\n",
    "corpus+=[(wav,0) for wav in female_corpus]\n",
    "corpus+=[(wav,1) for wav in male_corpus]\n",
    "shuffle(corpus)"
   ]
  },
  {
   "cell_type": "code",
   "execution_count": 5,
   "metadata": {
    "collapsed": false
   },
   "outputs": [],
   "source": [
    "f=open('/home/ubuntu/genderRecognition/corpus.pk','wb')\n",
    "pickle.dump(corpus, f)\n",
    "f.close()"
   ]
  },
  {
   "cell_type": "markdown",
   "metadata": {},
   "source": [
    "### The corpus is saved as corpus.pk"
   ]
  },
  {
   "cell_type": "code",
   "execution_count": 6,
   "metadata": {
    "collapsed": false
   },
   "outputs": [
    {
     "data": {
      "text/plain": [
       "[('/home/ubuntu/voxforge/audio/cebidae-20080522-nsi/wav/b0376.wav', 1),\n",
       " ('/home/ubuntu/voxforge/audio/craniumonempty-20100314-tlf/wav/a0399.wav', 1),\n",
       " ('/home/ubuntu/voxforge/audio/anonymous-20110925-bza/wav/b0071.wav', 1),\n",
       " ('/home/ubuntu/voxforge/audio/clarkjc-20120805-qpa/wav/b0454.wav', 1),\n",
       " ('/home/ubuntu/voxforge/audio/observing-20080807-vqd/wav/b0448.wav', 1),\n",
       " ('/home/ubuntu/voxforge/audio/anonymous-20111108-clq/wav/a0589.wav', 1),\n",
       " ('/home/ubuntu/voxforge/audio/anonymous-20080117-wqy/wav/a0429.wav', 0),\n",
       " ('/home/ubuntu/voxforge/audio/anonymous-20091105-vgd/wav/b0139.wav', 1),\n",
       " ('/home/ubuntu/voxforge/audio/chocoholic-20070524/wav/eti0049.wav', 0),\n",
       " ('/home/ubuntu/voxforge/audio/NanaHuck-20080321-ijk/wav/a0242.wav', 0)]"
      ]
     },
     "execution_count": 6,
     "metadata": {},
     "output_type": "execute_result"
    }
   ],
   "source": [
    "corpus[:10]"
   ]
  }
 ],
 "metadata": {
  "kernelspec": {
   "display_name": "Python 2",
   "language": "python",
   "name": "python2"
  },
  "language_info": {
   "codemirror_mode": {
    "name": "ipython",
    "version": 2
   },
   "file_extension": ".py",
   "mimetype": "text/x-python",
   "name": "python",
   "nbconvert_exporter": "python",
   "pygments_lexer": "ipython2",
   "version": "2.7.11"
  }
 },
 "nbformat": 4,
 "nbformat_minor": 0
}
