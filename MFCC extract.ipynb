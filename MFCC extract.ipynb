{
 "cells": [
  {
   "cell_type": "code",
   "execution_count": null,
   "metadata": {
    "collapsed": false
   },
   "outputs": [],
   "source": [
    "import pickle\n",
    "import scipy.io.wavfile as  wav\n",
    "from base import *\n",
    "import numpy as np"
   ]
  },
  {
   "cell_type": "code",
   "execution_count": null,
   "metadata": {
    "collapsed": true
   },
   "outputs": [],
   "source": [
    "corpus_path='/home/ubuntu/genderRecognition/corpus.pk'"
   ]
  },
  {
   "cell_type": "code",
   "execution_count": null,
   "metadata": {
    "collapsed": false
   },
   "outputs": [],
   "source": [
    "f=open(corpus_path,'r')\n",
    "[train_set,valid_set,test_set]=pickle.load(f)\n",
    "f.close"
   ]
  },
  {
   "cell_type": "code",
   "execution_count": null,
   "metadata": {
    "collapsed": false
   },
   "outputs": [],
   "source": [
    "train_set_MFCC=[]\n",
    "train_set_y=[]\n",
    "count=0\n",
    "for [path, gender] in train_set:\n",
    "    if count % int(len(train_set)*0.1)==0:\n",
    "        print('done %s%%'%int(count*10/(len(train_set)*0.1)))\n",
    "    (rate,sig) = wav.read(path)\n",
    "    train_set_MFCC.append(mfcc_d_dd(sig,rate,winlen=0.025,winstep=0.01,numcep=13))\n",
    "    train_set_y.append(gender)\n",
    "    count+=1"
   ]
  },
  {
   "cell_type": "code",
   "execution_count": null,
   "metadata": {
    "collapsed": false
   },
   "outputs": [],
   "source": [
    "valid_set_MFCC=[]\n",
    "valid_set_y=[]\n",
    "count=0\n",
    "for [path, gender] in valid_set:\n",
    "    if count % int(len(valid_set)*0.1)==0:\n",
    "        print('done %s%%'%int(count*10/(len(valid_set)*0.1)))\n",
    "    (rate,sig) = wav.read(path)\n",
    "    valid_set_MFCC.append(mfcc_d_dd(sig,rate,winlen=0.025,winstep=0.01,numcep=13))\n",
    "    valid_set_y.append(gender)\n",
    "    count+=1"
   ]
  },
  {
   "cell_type": "code",
   "execution_count": null,
   "metadata": {
    "collapsed": false
   },
   "outputs": [],
   "source": [
    "test_set_MFCC=[]\n",
    "test_set_y=[]\n",
    "count=0\n",
    "for [path, gender] in test_set:\n",
    "    if count % int(len(valid_set)*0.1)==0:\n",
    "        print('done %s%%'%int(count*10/(len(valid_set)*0.1)))\n",
    "    (rate,sig) = wav.read(path)\n",
    "    test_set_MFCC.append(mfcc_d_dd(sig,rate,winlen=0.025,winstep=0.01,numcep=13))\n",
    "    test_set_y.append(gender)\n",
    "    count+=1"
   ]
  },
  {
   "cell_type": "code",
   "execution_count": null,
   "metadata": {
    "collapsed": false
   },
   "outputs": [],
   "source": [
    "len(valid_set_y)"
   ]
  },
  {
   "cell_type": "code",
   "execution_count": null,
   "metadata": {
    "collapsed": true
   },
   "outputs": [],
   "source": []
  }
 ],
 "metadata": {
  "kernelspec": {
   "display_name": "Python 2",
   "language": "python",
   "name": "python2"
  },
  "language_info": {
   "codemirror_mode": {
    "name": "ipython",
    "version": 2
   },
   "file_extension": ".py",
   "mimetype": "text/x-python",
   "name": "python",
   "nbconvert_exporter": "python",
   "pygments_lexer": "ipython2",
   "version": "2.7.11"
  }
 },
 "nbformat": 4,
 "nbformat_minor": 0
}
